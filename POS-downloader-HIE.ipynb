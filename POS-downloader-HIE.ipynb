{
 "cells": [
  {
   "cell_type": "markdown",
   "metadata": {},
   "source": [
    "#### Libraries"
   ]
  },
  {
   "cell_type": "code",
   "execution_count": 1,
   "metadata": {},
   "outputs": [],
   "source": [
    "from selenium import webdriver\n",
    "from selenium.webdriver.common.by import By\n",
    "from selenium.webdriver.common.keys import Keys\n",
    "from selenium.common.exceptions import NoSuchElementException\n",
    "import time\n",
    "from datetime import datetime, timedelta\n",
    "import os\n",
    "import requests\n",
    "import threading\n",
    "import msvcrt"
   ]
  },
  {
   "cell_type": "markdown",
   "metadata": {},
   "source": [
    "#### Driver options"
   ]
  },
  {
   "cell_type": "code",
   "execution_count": 2,
   "metadata": {},
   "outputs": [],
   "source": [
    "temp_folder = r\"D:\\Lostsale ĐM\\download_tạm\"\n",
    "\n",
    "options = webdriver.ChromeOptions()\n",
    "#options.add_argument('--headless')\n",
    "options.add_experimental_option(\"prefs\", {\n",
    "    \"download.default_directory\": temp_folder,\n",
    "    \"safebrowsing.enabled\": \"false\"\n",
    "})\n",
    "driver = webdriver.Chrome(options=options)\n",
    "driver.implicitly_wait(20)"
   ]
  },
  {
   "cell_type": "markdown",
   "metadata": {},
   "source": [
    "#### Define functions"
   ]
  },
  {
   "cell_type": "markdown",
   "metadata": {},
   "source": [
    "Clear_folder"
   ]
  },
  {
   "cell_type": "code",
   "execution_count": 3,
   "metadata": {},
   "outputs": [],
   "source": [
    "def Clear_folder(folder_path=temp_folder):\n",
    "    #folder_path = r'C:\\PYTHON\\SELENIUM\\download'\n",
    "    for file_name in os.listdir(folder_path):\n",
    "        file_path = os.path.join(folder_path, file_name)\n",
    "        if os.path.isfile(file_path):\n",
    "            os.remove(file_path)"
   ]
  },
  {
   "cell_type": "markdown",
   "metadata": {},
   "source": [
    "Login"
   ]
  },
  {
   "cell_type": "code",
   "execution_count": 4,
   "metadata": {},
   "outputs": [],
   "source": [
    "def Login(username='208064', password='AAhZuuPq'):\n",
    "    driver.get('https://pos.bachhoaxanh.com/')\n",
    "    textbox_username = driver.find_element(By.XPATH, '/html/body/div[1]/div[2]/div[2]/form/div[1]/input')\n",
    "    textbox_password = driver.find_element(By.XPATH, '/html/body/div[1]/div[2]/div[2]/form/div[2]/input')\n",
    "    button_login = driver.find_element(By.XPATH, '/html/body/div[1]/div[2]/div[2]/form/button')\n",
    "    \n",
    "    textbox_username.send_keys(username)\n",
    "    textbox_password.send_keys(password)\n",
    "    button_login.click()\n",
    "    print('Đăng nhập thành công! \\nUser_id:', username)"
   ]
  },
  {
   "cell_type": "markdown",
   "metadata": {},
   "source": [
    "Get_to_the_webpage"
   ]
  },
  {
   "cell_type": "code",
   "execution_count": 5,
   "metadata": {},
   "outputs": [],
   "source": [
    "def Get_to_the_webpage(report_name):\n",
    "    report_link = 'https://pos.bachhoaxanh.com/reports/home/dashboard/'\n",
    "    full_link = report_link + str(report_name)\n",
    "    driver.get(full_link)\n",
    "    time.sleep(5)\n",
    "    driver.get(full_link)\n",
    "    time.sleep(5)"
   ]
  },
  {
   "cell_type": "markdown",
   "metadata": {},
   "source": [
    "Select_and_export_excel"
   ]
  },
  {
   "cell_type": "code",
   "execution_count": 6,
   "metadata": {},
   "outputs": [],
   "source": [
    "def Select_and_export_excel(page_num, add_date=0, specific_day=None,  template=1):\n",
    "    Get_to_the_webpage(page_num)\n",
    "    \n",
    "    # Chọn template đổ báo cáo\n",
    "    report_template = driver.find_element(By.XPATH, '/html/body/div[2]/div/div[2]/div[2]/div[2]/span/span/span/span')\n",
    "    report_template.click()\n",
    "    time.sleep(2)\n",
    "\n",
    "\n",
    "    select_template = driver.find_element(By.XPATH, '/html/body/div[5]/div/div[2]/ul/li[' + str(1+template) + ']')\n",
    "    select_template.click()\n",
    "    time.sleep(45)\n",
    "\n",
    "    # Chọn ngày từ - đến theo báo cáo\n",
    "    if page_num in [827, 89]:\n",
    "        date_location = 1\n",
    "    else:\n",
    "        date_location = 0\n",
    "\n",
    "    # Xử lý nếu specific_day có giá trị\n",
    "    if specific_day == None:\n",
    "        specific_day = (datetime.now().date())\n",
    "    else:\n",
    "        specific_day = datetime.strptime(str(specific_day), '%Y%m%d').date()\n",
    "    today = (datetime.now().date())\n",
    "    sub = (specific_day - today).days\n",
    "\n",
    "    date = (datetime.now().date() + timedelta(days=add_date + sub)).strftime('%d/%m/%Y')\n",
    "    if page_num in [180]:\n",
    "        pass\n",
    "    else:\n",
    "        from_date = driver.find_element(By.XPATH, '/html/body/div[2]/div/div[1]/div['+ str(1 + date_location) +']/div[1]/div/span/span/input')\n",
    "        from_date.send_keys(Keys.SHIFT + Keys.HOME)\n",
    "        from_date.send_keys(Keys.BACKSPACE)\n",
    "        from_date.send_keys(str(date) + ' 00:00')\n",
    "        time.sleep(2)\n",
    "\n",
    "    # Dùng try - except để tránh lỗi ở báo cáo 531\n",
    "    try:\n",
    "        to_date = driver.find_element(By.XPATH, '/html/body/div[2]/div/div[1]/div['+ str(2 + date_location) +']/div[1]/div/span/span/input')\n",
    "        to_date.send_keys(Keys.SHIFT + Keys.HOME)\n",
    "        to_date.send_keys(Keys.BACKSPACE)\n",
    "        to_date.send_keys(str(date) + ' 23:59')\n",
    "        time.sleep(2)\n",
    "    except NoSuchElementException:\n",
    "        pass\n",
    "    \n",
    "    # Click vào vùng trống\n",
    "    if page_num in [180]:\n",
    "        pass\n",
    "    else:\n",
    "        from_date.click()\n",
    "\n",
    "    # Nhấn button Xuất Excel\n",
    "    button_export = driver.find_element(By.XPATH, '/html/body/div[2]/div/div[2]/div[1]/button[2]')\n",
    "    button_export.click()\n",
    "    time.sleep(2)"
   ]
  },
  {
   "cell_type": "markdown",
   "metadata": {},
   "source": [
    "Get_download_status"
   ]
  },
  {
   "cell_type": "code",
   "execution_count": 7,
   "metadata": {},
   "outputs": [],
   "source": [
    "def Get_download_status():\n",
    "    # Mở trang Download Manager và get elements cần thiết\n",
    "    driver.get('https://pos.bachhoaxanh.com/reports/ManagerDownload')\n",
    "    time.sleep(5)\n",
    "    text_status = driver.find_element(By.XPATH, '/html/body/div[2]/div/div[2]/div/div[2]/table/tbody/tr[1]/td[3]')\n",
    "    status = text_status.text\n",
    "    return status"
   ]
  },
  {
   "cell_type": "markdown",
   "metadata": {},
   "source": [
    "Download_func"
   ]
  },
  {
   "cell_type": "code",
   "execution_count": 8,
   "metadata": {},
   "outputs": [],
   "source": [
    "def Download_func(page_num, add_date, download_time=20, specific_day=None, folder_path_and_file_name=''):\n",
    "    \n",
    "    # Xử lý nếu specific_day có giá trị\n",
    "    if specific_day == None:\n",
    "        specific_day = (datetime.now().date())\n",
    "    else:\n",
    "        specific_day = datetime.strptime(str(specific_day), '%Y%m%d').date()\n",
    "    today = (datetime.now().date())\n",
    "    sub = (specific_day - today).days\n",
    "\n",
    "    date = (datetime.now().date() + timedelta(days=add_date + sub)).strftime('%Y%m%d')\n",
    "    file_dir = folder_path_and_file_name + date + '.xlsx'\n",
    "\n",
    "    # Xóa hết file trong thư mục tạm và download file\n",
    "    Clear_folder()\n",
    "    time.sleep(2)\n",
    "    button_download = driver.find_element(By.XPATH, '/html/body/div[2]/div/div[2]/div/div[2]/table/tbody/tr[1]/td[4]/a')\n",
    "    button_download.click()\n",
    "    #time.sleep(download_time)\n",
    "\n",
    "    # Chờ tối đa 200 giây đến khi tải xong file\n",
    "    def check_excel_file_exists(folder_path=temp_folder):\n",
    "        files = os.listdir(folder_path)\n",
    "        for file in files:\n",
    "            if file.endswith(\".xlsx\"):\n",
    "                return True\n",
    "\n",
    "    count = 0\n",
    "    timeout = 200\n",
    "    while count < timeout:\n",
    "        if check_excel_file_exists() == True:\n",
    "            time.sleep(3)\n",
    "            #print('Đã tải xuống!')\n",
    "            break\n",
    "        else:\n",
    "            time.sleep(1)\n",
    "            count = count + 1\n",
    "\n",
    "    # Đổi tên file và di chuyển đến thư mục đích\n",
    "    folder_path = temp_folder\n",
    "    for file_name in os.listdir(folder_path):\n",
    "        if file_name.endswith('xlsx'):\n",
    "            old_file_path = os.path.join(folder_path, file_name)\n",
    "    new_file_path = file_dir\n",
    "\n",
    "    # Đổi tên và di chuyển file\n",
    "    os.rename(old_file_path, new_file_path)"
   ]
  },
  {
   "cell_type": "markdown",
   "metadata": {},
   "source": [
    "Lets_download"
   ]
  },
  {
   "cell_type": "code",
   "execution_count": 9,
   "metadata": {},
   "outputs": [],
   "source": [
    "def Lets_download():\n",
    "    retry = True\n",
    "    while retry:\n",
    "        try:\n",
    "            status = Get_download_status()\n",
    "            retry = False\n",
    "            time.sleep(10)\n",
    "        except NoSuchElementException:\n",
    "            status = Get_download_status()\n",
    "            time.sleep(10)"
   ]
  },
  {
   "cell_type": "markdown",
   "metadata": {},
   "source": [
    "File_dir"
   ]
  },
  {
   "cell_type": "code",
   "execution_count": 10,
   "metadata": {},
   "outputs": [],
   "source": [
    "def file_dir(page_num, add_date, specific_day=None, folder_path_and_file_name=''):\n",
    "\n",
    "    if specific_day == None:\n",
    "        specific_day = (datetime.now().date())\n",
    "    else:\n",
    "        specific_day = datetime.strptime(str(specific_day), '%Y%m%d').date()\n",
    "    today = (datetime.now().date())\n",
    "    sub = (specific_day - today).days\n",
    "\n",
    "    date = (datetime.now().date() + timedelta(days=add_date + sub)).strftime('%Y%m%d')\n",
    "    file_dir = folder_path_and_file_name + date + '.xlsx'\n",
    "    return file_dir"
   ]
  },
  {
   "cell_type": "markdown",
   "metadata": {},
   "source": [
    "Check_file_exist"
   ]
  },
  {
   "cell_type": "code",
   "execution_count": 11,
   "metadata": {},
   "outputs": [],
   "source": [
    "def Check_file_exist(file_dir=file_dir):   \n",
    "    if os.path.exists(file_dir):\n",
    "        go_on = False\n",
    "    else:\n",
    "        go_on = True\n",
    "    return go_on"
   ]
  },
  {
   "cell_type": "markdown",
   "metadata": {},
   "source": [
    "Main"
   ]
  },
  {
   "cell_type": "code",
   "execution_count": 12,
   "metadata": {},
   "outputs": [],
   "source": [
    "def Main(page_num, add_date, download_time, specific_day=None, folder_path_and_file_name='', template=1):\n",
    "    a = file_dir(page_num, add_date, specific_day, folder_path_and_file_name)\n",
    "    print('Preparing for downloading:', a)\n",
    "    go_on = Check_file_exist(file_dir=a)\n",
    "\n",
    "    retry = True\n",
    "    while retry:\n",
    "        if go_on == True:\n",
    "            # Chọn điều kiện đổ báo cáo\n",
    "            print('[---START---]')\n",
    "            print('Selecting report template...')\n",
    "            Select_and_export_excel(page_num, add_date, specific_day, template)\n",
    "            print('Exporting excel file...')\n",
    "\n",
    "            # Mở trang download\n",
    "            print('Going to Download Manager...')\n",
    "            Lets_download()\n",
    "\n",
    "            # Kiểm tra trạng thái và \n",
    "            status_success = 'Đã xuất xong'\n",
    "            status_fail_1 = 'Lỗi xuất excel'\n",
    "            status_fail_2 = 'Lỗi lấy dữ liệu'\n",
    "\n",
    "            print('[---Wait a damn minute---]')\n",
    "            checking_mode = True\n",
    "            while checking_mode:\n",
    "\n",
    "                status = Get_download_status()\n",
    "\n",
    "                if status_success in status:\n",
    "                    print(status)\n",
    "                    Download_func(page_num, add_date, download_time, specific_day, folder_path_and_file_name)\n",
    "                    print('Successfully!')\n",
    "                    checking_mode = False\n",
    "\n",
    "                elif (status_fail_1 in status) or (status_fail_2 in status):\n",
    "                    print(status)\n",
    "                    print('[---Download fail---]')\n",
    "                    time.sleep(1)\n",
    "                    print('Try again, >_<')\n",
    "                    time.sleep(1)\n",
    "                    print('Selecting report template...')\n",
    "                    Select_and_export_excel(page_num, add_date, specific_day, template)\n",
    "                    print('Exporting excel file...')\n",
    "\n",
    "                else:\n",
    "                    print(status)\n",
    "                    time.sleep(30)\n",
    "                    \n",
    "            retry = False\n",
    "\n",
    "        else:\n",
    "            print('This file already exists!')\n",
    "            print('Do you want to REPLACE it, Y/N?')\n",
    "            time.sleep(0.5)\n",
    "            isReplace = input('Do you want to REPLACE it, Y/N?')\n",
    "            isReplace = isReplace.upper()\n",
    "            if isReplace == 'Y':\n",
    "                go_on = True\n",
    "                os.remove(a)\n",
    "                print('File has been removed!')\n",
    "            else:\n",
    "                print('Cancelled!')\n",
    "                break"
   ]
  },
  {
   "cell_type": "markdown",
   "metadata": {},
   "source": [
    "#### Login"
   ]
  },
  {
   "cell_type": "code",
   "execution_count": 13,
   "metadata": {},
   "outputs": [
    {
     "name": "stdout",
     "output_type": "stream",
     "text": [
      "Đăng nhập thành công! \n",
      "User_id: 208064\n"
     ]
    }
   ],
   "source": [
    "Login()"
   ]
  },
  {
   "cell_type": "markdown",
   "metadata": {},
   "source": [
    "#### Download data"
   ]
  },
  {
   "cell_type": "code",
   "execution_count": 14,
   "metadata": {},
   "outputs": [],
   "source": [
    "today = datetime.now().date()\n",
    "from_date = today - timedelta(days=7)\n",
    "to_date = today \n",
    "from_date = int(from_date.strftime('%Y%m%d'))\n",
    "to_date = int(to_date.strftime('%Y%m%d'))"
   ]
  },
  {
   "cell_type": "code",
   "execution_count": 15,
   "metadata": {},
   "outputs": [],
   "source": [
    "# path = 'D:/Lostsale ĐM/587/587_downloads/DATA-3191-'\n",
    "# Main(page_num=3191, add_date=0, download_time=60, specific_day=None, folder_path_and_file_name=path)"
   ]
  },
  {
   "cell_type": "code",
   "execution_count": 16,
   "metadata": {},
   "outputs": [
    {
     "name": "stdout",
     "output_type": "stream",
     "text": [
      "Preparing for downloading: D:/Lostsale ĐM/Facing/facing_downloads/DATA-180-20231116.xlsx\n",
      "[---START---]\n",
      "Selecting report template...\n"
     ]
    },
    {
     "name": "stdout",
     "output_type": "stream",
     "text": [
      "Exporting excel file...\n",
      "Going to Download Manager...\n",
      "[---Wait a damn minute---]\n",
      "11% loading\n",
      "41% loading\n",
      "72% loading\n",
      "97% loading\n",
      "Đã xuất xong, có thể tải file\n",
      "Successfully!\n"
     ]
    }
   ],
   "source": [
    "\n",
    "path = 'D:/Lostsale ĐM/Facing/facing_downloads/DATA-180-'\n",
    "Main(page_num=180, add_date=0, download_time=60, specific_day=None, folder_path_and_file_name=path)"
   ]
  },
  {
   "cell_type": "code",
   "execution_count": 17,
   "metadata": {},
   "outputs": [
    {
     "name": "stdout",
     "output_type": "stream",
     "text": [
      "Preparing for downloading: D:/Lostsale ĐM/Candate/Candate downloads/DATA-603-20231115.xlsx\n",
      "[---START---]\n",
      "Selecting report template...\n",
      "Exporting excel file...\n",
      "Going to Download Manager...\n",
      "[---Wait a damn minute---]\n",
      "2% loading\n",
      "16% loading\n",
      "30% loading\n",
      "44% loading\n",
      "59% loading\n",
      "73% loading\n",
      "89% loading\n",
      "Đã xuất xong, có thể tải file\n",
      "Successfully!\n"
     ]
    }
   ],
   "source": [
    "path = 'D:/Lostsale ĐM/Candate/Candate downloads/DATA-603-'\n",
    "Main(page_num=603, add_date=-1, download_time=60, specific_day=None, folder_path_and_file_name=path)"
   ]
  },
  {
   "cell_type": "code",
   "execution_count": 18,
   "metadata": {},
   "outputs": [
    {
     "name": "stdout",
     "output_type": "stream",
     "text": [
      "Preparing for downloading: D:/Lostsale ĐM/Điểm NCC/Điểm NCC downloads/DATA-273-20231116.xlsx\n",
      "[---START---]\n",
      "Selecting report template...\n"
     ]
    },
    {
     "name": "stdout",
     "output_type": "stream",
     "text": [
      "Exporting excel file...\n",
      "Going to Download Manager...\n",
      "[---Wait a damn minute---]\n",
      "Đã xuất xong, có thể tải file\n",
      "Successfully!\n"
     ]
    }
   ],
   "source": [
    "\n",
    "path = 'D:/Lostsale ĐM/Điểm NCC/Điểm NCC downloads/DATA-273-'\n",
    "Main(page_num=273, add_date=0, download_time=60, specific_day=None, folder_path_and_file_name=path)"
   ]
  },
  {
   "cell_type": "code",
   "execution_count": 19,
   "metadata": {},
   "outputs": [
    {
     "name": "stdout",
     "output_type": "stream",
     "text": [
      "Preparing for downloading: D:/Lostsale ĐM/PX/PX downloads/DATA-72-20231115.xlsx\n",
      "[---START---]\n",
      "Selecting report template...\n",
      "Exporting excel file...\n",
      "Going to Download Manager...\n",
      "[---Wait a damn minute---]\n",
      "4% loading\n",
      "18% loading\n",
      "32% loading\n",
      "48% loading\n",
      "65% loading\n",
      "81% loading\n",
      "97% loading\n",
      "97% loading\n",
      "Đã xuất xong, có thể tải file\n",
      "Successfully!\n"
     ]
    }
   ],
   "source": [
    "\n",
    "path = 'D:/Lostsale ĐM/PX/PX downloads/DATA-72-'\n",
    "Main(page_num=72, add_date=-1, download_time=60, specific_day=None, folder_path_and_file_name=path)"
   ]
  },
  {
   "cell_type": "code",
   "execution_count": 20,
   "metadata": {},
   "outputs": [
    {
     "name": "stdout",
     "output_type": "stream",
     "text": [
      "Preparing for downloading: D:/Lostsale ĐM/PN/PN downloads/DATA-951-20231115.xlsx\n",
      "[---START---]\n",
      "Selecting report template...\n",
      "Exporting excel file...\n",
      "Going to Download Manager...\n",
      "[---Wait a damn minute---]\n",
      "Hiện tại chưa tới lượt đổ báo cáo của bạn, vui lòng chờ trong ít phút !\n",
      "Hiện tại chưa tới lượt đổ báo cáo của bạn, vui lòng chờ trong ít phút !\n",
      "Đã xuất xong, có thể tải file\n",
      "Successfully!\n"
     ]
    }
   ],
   "source": [
    "\n",
    "path = 'D:/Lostsale ĐM/PN/PN downloads/DATA-951-'\n",
    "Main(page_num=951, add_date=-1, download_time=60, specific_day=None, folder_path_and_file_name=path)"
   ]
  },
  {
   "cell_type": "code",
   "execution_count": 21,
   "metadata": {},
   "outputs": [],
   "source": [
    "# for date in range(from_date, to_date):\n",
    "#     path = 'D:/Lostsale ĐM/89/89dl/DATA-89-'\n",
    "#     Main(page_num=89, add_date=0, download_time=60, specific_day=date, folder_path_and_file_name=path)"
   ]
  },
  {
   "cell_type": "code",
   "execution_count": 22,
   "metadata": {},
   "outputs": [
    {
     "name": "stdout",
     "output_type": "stream",
     "text": [
      "Preparing for downloading: D:/Lostsale ĐM/89/89dl/DATA-89-20231115.xlsx\n",
      "[---START---]\n",
      "Selecting report template...\n",
      "Exporting excel file...\n",
      "Going to Download Manager...\n",
      "[---Wait a damn minute---]\n",
      "Đã xuất xong, có thể tải file\n",
      "Successfully!\n"
     ]
    }
   ],
   "source": [
    "path = 'D:/Lostsale ĐM/89/89dl/DATA-89-'\n",
    "Main(page_num=89, add_date=-1, download_time=60, specific_day=None, folder_path_and_file_name=path)"
   ]
  },
  {
   "cell_type": "code",
   "execution_count": 23,
   "metadata": {},
   "outputs": [
    {
     "name": "stdout",
     "output_type": "stream",
     "text": [
      "Preparing for downloading: D:/Lostsale ĐM/911/911 downloads/DATA-808-20231115.xlsx\n",
      "[---START---]\n",
      "Selecting report template...\n",
      "Exporting excel file...\n",
      "Going to Download Manager...\n",
      "[---Wait a damn minute---]\n",
      "Hiện tại chưa tới lượt đổ báo cáo của bạn, vui lòng chờ trong ít phút !\n",
      "Hiện tại chưa tới lượt đổ báo cáo của bạn, vui lòng chờ trong ít phút !\n",
      "Đã xuất xong, có thể tải file\n",
      "Successfully!\n"
     ]
    }
   ],
   "source": [
    "\n",
    "path = 'D:/Lostsale ĐM/911/911 downloads/DATA-808-'\n",
    "Main(page_num=808, add_date=-1, download_time=60, specific_day=None, folder_path_and_file_name=path)"
   ]
  },
  {
   "cell_type": "code",
   "execution_count": 24,
   "metadata": {},
   "outputs": [],
   "source": [
    "# for date in range(20231101, 20231113):\n",
    "#     path = 'D:/Lostsale ĐM/308/308dl/DATA-308-'\n",
    "#     Main(page_num=308, add_date=0, download_time=60, specific_day=date, folder_path_and_file_name=path)"
   ]
  },
  {
   "cell_type": "code",
   "execution_count": 25,
   "metadata": {},
   "outputs": [
    {
     "name": "stdout",
     "output_type": "stream",
     "text": [
      "Preparing for downloading: D:/Lostsale ĐM/554/554 downloads/DATA-554-20231115.xlsx\n",
      "[---START---]\n",
      "Selecting report template...\n",
      "Exporting excel file...\n",
      "Going to Download Manager...\n",
      "[---Wait a damn minute---]\n",
      "Hiện tại chưa tới lượt đổ báo cáo của bạn, vui lòng chờ trong ít phút !\n",
      "Hiện tại chưa tới lượt đổ báo cáo của bạn, vui lòng chờ trong ít phút !\n",
      "Hiện tại chưa tới lượt đổ báo cáo của bạn, vui lòng chờ trong ít phút !\n",
      "Đã xuất xong, có thể tải file\n",
      "Successfully!\n"
     ]
    }
   ],
   "source": [
    "\n",
    "\n",
    "path = 'D:/Lostsale ĐM/554/554 downloads/DATA-554-'\n",
    "Main(page_num=554, add_date=-1, download_time=60, specific_day=None, folder_path_and_file_name=path)"
   ]
  }
 ],
 "metadata": {
  "kernelspec": {
   "display_name": "Python 3",
   "language": "python",
   "name": "python3"
  },
  "language_info": {
   "codemirror_mode": {
    "name": "ipython",
    "version": 3
   },
   "file_extension": ".py",
   "mimetype": "text/x-python",
   "name": "python",
   "nbconvert_exporter": "python",
   "pygments_lexer": "ipython3",
   "version": "3.11.6"
  },
  "orig_nbformat": 4
 },
 "nbformat": 4,
 "nbformat_minor": 2
}
