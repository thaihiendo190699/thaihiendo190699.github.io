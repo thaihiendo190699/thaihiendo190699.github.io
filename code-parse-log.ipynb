{
 "cells": [
  {
   "cell_type": "code",
   "execution_count": null,
   "metadata": {},
   "outputs": [],
   "source": [
    "# Import libraries\n",
    "import pandas as pd\n",
    "import glob\n",
    "pd.set_option('display.max_columns', None)\n",
    "import numpy as np\n",
    "\n",
    "\n",
    "# Folder path to log files\n",
    "folder_path = r''\n",
    "\n",
    "# Find all file txt in the folder\n",
    "file_pattern = folder_path + '/log*.txt'\n",
    "file_list = glob.glob(file_pattern)\n",
    "\n",
    "# List to store DataFrame from each file\n",
    "data_frames = []\n",
    "\n",
    "# Read each file and convert to DataFrame\n",
    "for file_name in file_list:\n",
    "    data_dicts = []\n",
    "    with open(file_name, 'r') as file:\n",
    "        lines = file.readlines()\n",
    "        for line in lines:\n",
    "            if line.strip():\n",
    "                data_dict = eval(line)\n",
    "                data_dicts.append(data_dict)\n",
    "    df = pd.DataFrame(data_dicts)\n",
    "    data_frames.append(df)\n",
    "\n",
    "# Concat them to 1 dataframe\n",
    "data = pd.concat(data_frames, ignore_index=True)"
   ]
  }
 ],
 "metadata": {
  "language_info": {
   "name": "python"
  }
 },
 "nbformat": 4,
 "nbformat_minor": 2
}
